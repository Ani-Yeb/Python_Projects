{
 "cells": [
  {
   "cell_type": "markdown",
   "id": "c981861e",
   "metadata": {},
   "source": [
    "# Q1\n",
    "Write a code to display a list of the first 12 multiples of 8 using a for loop\n"
   ]
  },
  {
   "cell_type": "code",
   "execution_count": 1,
   "id": "5ea1eb9d",
   "metadata": {},
   "outputs": [
    {
     "name": "stdout",
     "output_type": "stream",
     "text": [
      "[8, 16, 24, 32, 40, 48, 56, 64, 72, 80, 88, 96]\n"
     ]
    }
   ],
   "source": [
    "multiples_of_8 = []\n",
    "num = [1,2,3,4,5,6,7,8,9,10,11,12]\n",
    "for n in num:\n",
    "    product = n * 8\n",
    "    multiples_of_8.append(product)\n",
    "print(multiples_of_8)"
   ]
  },
  {
   "cell_type": "code",
   "execution_count": 2,
   "id": "5e0714b6",
   "metadata": {},
   "outputs": [
    {
     "name": "stdout",
     "output_type": "stream",
     "text": [
      "[8, 16, 24, 32, 40, 48, 56, 64, 72, 80, 88, 96]\n"
     ]
    }
   ],
   "source": [
    "multiples_of_8 = []\n",
    "for n in range(1,13):\n",
    "    product = n * 8\n",
    "    multiples_of_8.append(product)\n",
    "print(multiples_of_8)"
   ]
  },
  {
   "cell_type": "markdown",
   "id": "d9f7d0f9",
   "metadata": {},
   "source": [
    "# Q2\n",
    "Write the code to print sum of all even numbers from 1 to 201"
   ]
  },
  {
   "cell_type": "code",
   "execution_count": 11,
   "id": "f43d2b0f",
   "metadata": {},
   "outputs": [
    {
     "name": "stdout",
     "output_type": "stream",
     "text": [
      "10100\n"
     ]
    }
   ],
   "source": [
    "total = 0\n",
    "for i in range (2,201,2):\n",
    "    total +=i\n",
    "print (total)"
   ]
  },
  {
   "cell_type": "code",
   "execution_count": 12,
   "id": "a2f1c6de",
   "metadata": {},
   "outputs": [
    {
     "name": "stdout",
     "output_type": "stream",
     "text": [
      "10100\n"
     ]
    }
   ],
   "source": [
    "total = 0\n",
    "for i in range (2,201,2):\n",
    "    total = total + i\n",
    "print (total)"
   ]
  },
  {
   "cell_type": "markdown",
   "id": "4f0f12d7",
   "metadata": {},
   "source": [
    "# Q3\n",
    "`my_list = [3, 5, 7, 12, 41]`\n",
    "\n",
    "Write the code to display the list of the squares of each number in my list\n",
    "\n",
    "- Without using list comprehension\n",
    "- Using list comprehension\n"
   ]
  },
  {
   "cell_type": "code",
   "execution_count": 13,
   "id": "aaf01d04",
   "metadata": {},
   "outputs": [
    {
     "name": "stdout",
     "output_type": "stream",
     "text": [
      "[9, 25, 49, 144, 1681]\n"
     ]
    }
   ],
   "source": [
    "#Answer without using list comprehension\n",
    "my_list = [3, 5, 7, 12, 41]\n",
    "square_empty_list =[]\n",
    "for s in my_list:\n",
    "    results = s**2\n",
    "    square_empty_list.append(results)\n",
    "print(square_empty_list)"
   ]
  },
  {
   "cell_type": "code",
   "execution_count": 14,
   "id": "7faed825",
   "metadata": {},
   "outputs": [
    {
     "name": "stdout",
     "output_type": "stream",
     "text": [
      "[9, 25, 49, 144, 1681]\n"
     ]
    }
   ],
   "source": [
    "#Answer using list comprehension\n",
    "square_empty_list_1 = [i**2 for i in [3, 5, 7, 12, 41] ]\n",
    "print(square_empty_list_1)"
   ]
  },
  {
   "cell_type": "markdown",
   "id": "28bed149",
   "metadata": {},
   "source": [
    "# Q4\n",
    "`my_list1 = [3, 53,47, 22, 53, 78, 12, 41]`\n",
    "\n",
    "Calculate the average of my_list1\n",
    "\n",
    "- Without using sum and len fucnctions\n",
    "- Using sum and len functions\n"
   ]
  },
  {
   "cell_type": "code",
   "execution_count": 16,
   "id": "4aff0558",
   "metadata": {},
   "outputs": [
    {
     "name": "stdout",
     "output_type": "stream",
     "text": [
      "38.625\n"
     ]
    }
   ],
   "source": [
    "#without using sum and len functions\n",
    "my_list1 = [3, 53,47, 22, 53, 78, 12, 41]\n",
    "Total = 0\n",
    "Count = 0\n",
    "for num in my_list1:\n",
    "    Total += num\n",
    "    Count += 1\n",
    "average = Total/Count\n",
    "print(average)"
   ]
  },
  {
   "cell_type": "code",
   "execution_count": 33,
   "id": "6a59b6f1",
   "metadata": {},
   "outputs": [
    {
     "name": "stdout",
     "output_type": "stream",
     "text": [
      "38.625\n"
     ]
    }
   ],
   "source": [
    "#using sum and len functions\n",
    "average = sum(my_list1)/len(my_list1)\n",
    "print(average)"
   ]
  },
  {
   "cell_type": "markdown",
   "id": "38c1ddff",
   "metadata": {},
   "source": [
    "# Q4\n",
    "\n",
    "Write a Python program to guess a number between 1 and 9.\n",
    "User is prompted to enter a guess. If the user guesses wrong then the prompt appears again until the guess is correct, on successful guess, user will get a \"Well guessed!\" message, and the program will exit."
   ]
  },
  {
   "cell_type": "code",
   "execution_count": null,
   "id": "839daf80",
   "metadata": {},
   "outputs": [],
   "source": [
    "import random\n",
    "target_number = random.randint(1,9)\n",
    "while True:\n",
    "    guess =int(input(\"Enter a guess between 1 and 9\\n\"))\n",
    "if guess==target_number:\n",
    "    print(\"Well guessed!\")\n",
    "    break\n",
    "else:\n",
    "    guess =int(input(\"Enter a guess between 1 and 9\\n\"))"
   ]
  },
  {
   "cell_type": "markdown",
   "id": "f5c02baa",
   "metadata": {},
   "source": [
    "# Q5\n",
    "Write a Python program to construct the following pattern.\n",
    "\n",
    "`*` \n",
    "\n",
    "`* *` \n",
    "\n",
    "`* * *` \n",
    "\n",
    "`* * * *` \n",
    "\n",
    "`* * * * *`"
   ]
  },
  {
   "cell_type": "code",
   "execution_count": 27,
   "id": "683ac15f",
   "metadata": {},
   "outputs": [
    {
     "name": "stdout",
     "output_type": "stream",
     "text": [
      "*\n",
      "**\n",
      "***\n",
      "****\n",
      "*****\n"
     ]
    }
   ],
   "source": [
    "for i in range(1,6):\n",
    "    for j in range(i):\n",
    "        print(\"*\", end = \"\")\n",
    "    print()"
   ]
  },
  {
   "cell_type": "markdown",
   "id": "e85d94df",
   "metadata": {},
   "source": [
    "# Q6\n",
    "\n",
    "Write a Python program that accepts a word from the user and reverses it."
   ]
  },
  {
   "cell_type": "code",
   "execution_count": null,
   "id": "05545ef6",
   "metadata": {},
   "outputs": [],
   "source": [
    "#Get a word from the user\n",
    "user_input = str(input(\"Enter a word:\\n\"))\n",
    "\n",
    "#Reverse the word\n",
    "reversed_word = user_input[::-1]\n",
    "\n",
    "#Print the reversed word\n",
    "print(reversed_word)"
   ]
  },
  {
   "cell_type": "markdown",
   "id": "5fe06511",
   "metadata": {},
   "source": [
    "# Q7\n",
    "Write a Python program that accepts a word from the user and reverses it."
   ]
  },
  {
   "cell_type": "code",
   "execution_count": 34,
   "id": "4203cab1",
   "metadata": {},
   "outputs": [
    {
     "ename": "KeyboardInterrupt",
     "evalue": "Interrupted by user",
     "output_type": "error",
     "traceback": [
      "\u001b[1;31m---------------------------------------------------------------------------\u001b[0m",
      "\u001b[1;31mKeyboardInterrupt\u001b[0m                         Traceback (most recent call last)",
      "Cell \u001b[1;32mIn[34], line 2\u001b[0m\n\u001b[0;32m      1\u001b[0m \u001b[38;5;66;03m#Get a word from the user\u001b[39;00m\n\u001b[1;32m----> 2\u001b[0m user_input \u001b[38;5;241m=\u001b[39m \u001b[38;5;28mstr\u001b[39m(\u001b[38;5;28minput\u001b[39m(\u001b[38;5;124m\"\u001b[39m\u001b[38;5;124mEnter a word:\u001b[39m\u001b[38;5;130;01m\\n\u001b[39;00m\u001b[38;5;124m\"\u001b[39m))\n\u001b[0;32m      4\u001b[0m \u001b[38;5;66;03m#Reverse the word\u001b[39;00m\n\u001b[0;32m      5\u001b[0m reversed_word \u001b[38;5;241m=\u001b[39m user_input[::\u001b[38;5;241m-\u001b[39m\u001b[38;5;241m1\u001b[39m]\n",
      "File \u001b[1;32mC:\\Anaconda\\Lib\\site-packages\\ipykernel\\kernelbase.py:1202\u001b[0m, in \u001b[0;36mKernel.raw_input\u001b[1;34m(self, prompt)\u001b[0m\n\u001b[0;32m   1200\u001b[0m     msg \u001b[38;5;241m=\u001b[39m \u001b[38;5;124m\"\u001b[39m\u001b[38;5;124mraw_input was called, but this frontend does not support input requests.\u001b[39m\u001b[38;5;124m\"\u001b[39m\n\u001b[0;32m   1201\u001b[0m     \u001b[38;5;28;01mraise\u001b[39;00m StdinNotImplementedError(msg)\n\u001b[1;32m-> 1202\u001b[0m \u001b[38;5;28;01mreturn\u001b[39;00m \u001b[38;5;28mself\u001b[39m\u001b[38;5;241m.\u001b[39m_input_request(\n\u001b[0;32m   1203\u001b[0m     \u001b[38;5;28mstr\u001b[39m(prompt),\n\u001b[0;32m   1204\u001b[0m     \u001b[38;5;28mself\u001b[39m\u001b[38;5;241m.\u001b[39m_parent_ident[\u001b[38;5;124m\"\u001b[39m\u001b[38;5;124mshell\u001b[39m\u001b[38;5;124m\"\u001b[39m],\n\u001b[0;32m   1205\u001b[0m     \u001b[38;5;28mself\u001b[39m\u001b[38;5;241m.\u001b[39mget_parent(\u001b[38;5;124m\"\u001b[39m\u001b[38;5;124mshell\u001b[39m\u001b[38;5;124m\"\u001b[39m),\n\u001b[0;32m   1206\u001b[0m     password\u001b[38;5;241m=\u001b[39m\u001b[38;5;28;01mFalse\u001b[39;00m,\n\u001b[0;32m   1207\u001b[0m )\n",
      "File \u001b[1;32mC:\\Anaconda\\Lib\\site-packages\\ipykernel\\kernelbase.py:1245\u001b[0m, in \u001b[0;36mKernel._input_request\u001b[1;34m(self, prompt, ident, parent, password)\u001b[0m\n\u001b[0;32m   1242\u001b[0m \u001b[38;5;28;01mexcept\u001b[39;00m \u001b[38;5;167;01mKeyboardInterrupt\u001b[39;00m:\n\u001b[0;32m   1243\u001b[0m     \u001b[38;5;66;03m# re-raise KeyboardInterrupt, to truncate traceback\u001b[39;00m\n\u001b[0;32m   1244\u001b[0m     msg \u001b[38;5;241m=\u001b[39m \u001b[38;5;124m\"\u001b[39m\u001b[38;5;124mInterrupted by user\u001b[39m\u001b[38;5;124m\"\u001b[39m\n\u001b[1;32m-> 1245\u001b[0m     \u001b[38;5;28;01mraise\u001b[39;00m \u001b[38;5;167;01mKeyboardInterrupt\u001b[39;00m(msg) \u001b[38;5;28;01mfrom\u001b[39;00m \u001b[38;5;28;01mNone\u001b[39;00m\n\u001b[0;32m   1246\u001b[0m \u001b[38;5;28;01mexcept\u001b[39;00m \u001b[38;5;167;01mException\u001b[39;00m:\n\u001b[0;32m   1247\u001b[0m     \u001b[38;5;28mself\u001b[39m\u001b[38;5;241m.\u001b[39mlog\u001b[38;5;241m.\u001b[39mwarning(\u001b[38;5;124m\"\u001b[39m\u001b[38;5;124mInvalid Message:\u001b[39m\u001b[38;5;124m\"\u001b[39m, exc_info\u001b[38;5;241m=\u001b[39m\u001b[38;5;28;01mTrue\u001b[39;00m)\n",
      "\u001b[1;31mKeyboardInterrupt\u001b[0m: Interrupted by user"
     ]
    }
   ],
   "source": [
    "#Get a word from the user\n",
    "user_input = str(input(\"Enter a word:\\n\"))\n",
    "\n",
    "#Reverse the word\n",
    "reversed_word = user_input[::-1]\n",
    "\n",
    "#Print the reversed word\n",
    "print(reversed_word)"
   ]
  },
  {
   "cell_type": "markdown",
   "id": "5a99d4b3",
   "metadata": {},
   "source": [
    "# Q8\n",
    "\n",
    "`lst = [3,4,5,4,7,8,5,8,3,6,8,9,11]`\n",
    "\n",
    "Write a Python program to count the number of even and odd numbers in the above list of numbers.\n",
    "\n",
    "**Expected output should be in this format**\n",
    "\n",
    "{\"Even\" : num_of_even, \"Odd\": num_of_odd}"
   ]
  },
  {
   "cell_type": "code",
   "execution_count": 36,
   "id": "e2e3cc50",
   "metadata": {},
   "outputs": [
    {
     "name": "stdout",
     "output_type": "stream",
     "text": [
      "[False, True, False, True, False, True, False, True, False, True, True, False, False]\n"
     ]
    }
   ],
   "source": [
    "lst = [3,4,5,4,7,8,5,8,3,6,8,9,11]\n",
    "even_nums = []\n",
    "for even in lst:\n",
    "    result = even %2 ==0\n",
    "    even_nums.append(result)\n",
    "print(even_nums)"
   ]
  },
  {
   "cell_type": "code",
   "execution_count": 37,
   "id": "43fd16fc",
   "metadata": {},
   "outputs": [
    {
     "name": "stdout",
     "output_type": "stream",
     "text": [
      "{'Even': 6, 'Odd': 7}\n"
     ]
    }
   ],
   "source": [
    "lst = [3,4,5,4,7,8,5,8,3,6,8,9,11]\n",
    "\n",
    "#initialize counters for even and odd numbers\n",
    "num_of_even = 0\n",
    "num_of_odd = 0\n",
    "\n",
    "#iterate through the list\n",
    "for number in lst:\n",
    "    if number % 2 ==0:\n",
    "        num_of_even += 1\n",
    "    else:\n",
    "        num_of_odd +=1\n",
    "        \n",
    "#create a dictionary with the results\n",
    "result = {\"Even\": num_of_even,\n",
    "         \"Odd\":num_of_odd}\n",
    "\n",
    "print(result)"
   ]
  },
  {
   "cell_type": "markdown",
   "id": "c92b54f9",
   "metadata": {},
   "source": [
    "# Q9\n",
    " Write a Python program that iterates the integers from 1 to 50. For multiples of three print \"Fizz\" instead of the number and for multiples of five print \"Buzz\". For numbers that are multiples of three and five, print \"FizzBuzz\".\n",
    "Sample Output :\n",
    "1\n",
    "\n",
    "2\n",
    "\n",
    "fizz\n",
    "\n",
    "4\n",
    "\n",
    "buzz"
   ]
  },
  {
   "cell_type": "code",
   "execution_count": 38,
   "id": "f20f0f09",
   "metadata": {},
   "outputs": [
    {
     "name": "stdout",
     "output_type": "stream",
     "text": [
      "1\n",
      "2\n",
      "Fizz\n",
      "4\n",
      "Buzz\n",
      "Fizz\n",
      "7\n",
      "8\n",
      "Fizz\n",
      "Buzz\n",
      "11\n",
      "Fizz\n",
      "13\n",
      "14\n",
      "FizzBuzz\n",
      "16\n",
      "17\n",
      "Fizz\n",
      "19\n",
      "Buzz\n",
      "Fizz\n",
      "22\n",
      "23\n",
      "Fizz\n",
      "Buzz\n",
      "26\n",
      "Fizz\n",
      "28\n",
      "29\n",
      "FizzBuzz\n",
      "31\n",
      "32\n",
      "Fizz\n",
      "34\n",
      "Buzz\n",
      "Fizz\n",
      "37\n",
      "38\n",
      "Fizz\n",
      "Buzz\n",
      "41\n",
      "Fizz\n",
      "43\n",
      "44\n",
      "FizzBuzz\n",
      "46\n",
      "47\n",
      "Fizz\n",
      "49\n",
      "Buzz\n"
     ]
    }
   ],
   "source": [
    "for i in range(1,51):\n",
    "    if i % 3 == 0 and i % 5 ==0:\n",
    "        print (\"FizzBuzz\")\n",
    "    elif i % 3 == 0:\n",
    "        print(\"Fizz\")\n",
    "    elif i % 5 == 0:\n",
    "        print (\"Buzz\")\n",
    "    else:\n",
    "        print(i)"
   ]
  },
  {
   "cell_type": "markdown",
   "id": "8d3505cf",
   "metadata": {},
   "source": [
    "# Q10\n",
    " Write a Python program to find the median of three values inputs from the user"
   ]
  },
  {
   "cell_type": "code",
   "execution_count": 42,
   "id": "64352752",
   "metadata": {},
   "outputs": [
    {
     "name": "stdout",
     "output_type": "stream",
     "text": [
      "Enter the first value:5\n",
      "Enter the second value:5\n",
      "Enter the third value:7\n",
      "The median is: 5\n"
     ]
    }
   ],
   "source": [
    "#Get three values from the user\n",
    "value1 = int(input(\"Enter the first value:\"))\n",
    "value2 = int(input(\"Enter the second value:\"))\n",
    "value3 = int(input(\"Enter the third value:\"))\n",
    "\n",
    "#Determine the median\n",
    "if value1 <= value2 <= value3 or value3 <= value2 <= value1:\n",
    "    median = value2\n",
    "elif value2 <= value1 <= value3 or value3 <= value1 <= value2:\n",
    "    median = value1\n",
    "else:\n",
    "    median = value3\n",
    "    \n",
    "print(\"The median is:\", median)"
   ]
  },
  {
   "cell_type": "code",
   "execution_count": null,
   "id": "b95e55c7",
   "metadata": {},
   "outputs": [],
   "source": [
    "# Get three values from the user\n",
    "\n",
    "value1 = float(input(\"Enter the first value: \"))\n",
    "\n",
    "value2 = float(input(\"Enter the second value: \"))\n",
    "\n",
    "value3 = float(input(\"Enter the third value: \"))\n",
    "\n",
    " \n",
    "\n",
    "# Arrange the values in ascending order\n",
    "\n",
    "sorted_values = sorted([value1, value2, value3])\n",
    "\n",
    " \n",
    "\n",
    "# Determine the median\n",
    "\n",
    "median = sorted_values[1]\n",
    "\n",
    " \n",
    "\n",
    "# Display the result\n",
    "\n",
    "print(\"The median is:\", median)"
   ]
  },
  {
   "cell_type": "markdown",
   "id": "9ef4f8a2",
   "metadata": {},
   "source": [
    "# Q11\n",
    "Write a Python program to calculate the sum and average of n integer numbers (input from the user). Input 0 to finish."
   ]
  },
  {
   "cell_type": "code",
   "execution_count": 55,
   "id": "bbb862fe",
   "metadata": {},
   "outputs": [
    {
     "ename": "KeyboardInterrupt",
     "evalue": "Interrupted by user",
     "output_type": "error",
     "traceback": [
      "\u001b[1;31m---------------------------------------------------------------------------\u001b[0m",
      "\u001b[1;31mKeyboardInterrupt\u001b[0m                         Traceback (most recent call last)",
      "Cell \u001b[1;32mIn[55], line 13\u001b[0m\n\u001b[0;32m      9\u001b[0m \u001b[38;5;66;03m# Get input from the user\u001b[39;00m\n\u001b[0;32m     11\u001b[0m \u001b[38;5;28;01mwhile\u001b[39;00m \u001b[38;5;28;01mTrue\u001b[39;00m:\n\u001b[1;32m---> 13\u001b[0m     user_input \u001b[38;5;241m=\u001b[39m \u001b[38;5;28mint\u001b[39m(\u001b[38;5;28minput\u001b[39m(\u001b[38;5;124m\"\u001b[39m\u001b[38;5;124mEnter an integer (enter 0 to finish): \u001b[39m\u001b[38;5;124m\"\u001b[39m))\n\u001b[0;32m     17\u001b[0m     \u001b[38;5;66;03m# Check if the user wants to finish\u001b[39;00m\n\u001b[0;32m     19\u001b[0m     \u001b[38;5;28;01mif\u001b[39;00m user_input \u001b[38;5;241m==\u001b[39m \u001b[38;5;241m0\u001b[39m:\n",
      "File \u001b[1;32mC:\\Anaconda\\Lib\\site-packages\\ipykernel\\kernelbase.py:1202\u001b[0m, in \u001b[0;36mKernel.raw_input\u001b[1;34m(self, prompt)\u001b[0m\n\u001b[0;32m   1200\u001b[0m     msg \u001b[38;5;241m=\u001b[39m \u001b[38;5;124m\"\u001b[39m\u001b[38;5;124mraw_input was called, but this frontend does not support input requests.\u001b[39m\u001b[38;5;124m\"\u001b[39m\n\u001b[0;32m   1201\u001b[0m     \u001b[38;5;28;01mraise\u001b[39;00m StdinNotImplementedError(msg)\n\u001b[1;32m-> 1202\u001b[0m \u001b[38;5;28;01mreturn\u001b[39;00m \u001b[38;5;28mself\u001b[39m\u001b[38;5;241m.\u001b[39m_input_request(\n\u001b[0;32m   1203\u001b[0m     \u001b[38;5;28mstr\u001b[39m(prompt),\n\u001b[0;32m   1204\u001b[0m     \u001b[38;5;28mself\u001b[39m\u001b[38;5;241m.\u001b[39m_parent_ident[\u001b[38;5;124m\"\u001b[39m\u001b[38;5;124mshell\u001b[39m\u001b[38;5;124m\"\u001b[39m],\n\u001b[0;32m   1205\u001b[0m     \u001b[38;5;28mself\u001b[39m\u001b[38;5;241m.\u001b[39mget_parent(\u001b[38;5;124m\"\u001b[39m\u001b[38;5;124mshell\u001b[39m\u001b[38;5;124m\"\u001b[39m),\n\u001b[0;32m   1206\u001b[0m     password\u001b[38;5;241m=\u001b[39m\u001b[38;5;28;01mFalse\u001b[39;00m,\n\u001b[0;32m   1207\u001b[0m )\n",
      "File \u001b[1;32mC:\\Anaconda\\Lib\\site-packages\\ipykernel\\kernelbase.py:1245\u001b[0m, in \u001b[0;36mKernel._input_request\u001b[1;34m(self, prompt, ident, parent, password)\u001b[0m\n\u001b[0;32m   1242\u001b[0m \u001b[38;5;28;01mexcept\u001b[39;00m \u001b[38;5;167;01mKeyboardInterrupt\u001b[39;00m:\n\u001b[0;32m   1243\u001b[0m     \u001b[38;5;66;03m# re-raise KeyboardInterrupt, to truncate traceback\u001b[39;00m\n\u001b[0;32m   1244\u001b[0m     msg \u001b[38;5;241m=\u001b[39m \u001b[38;5;124m\"\u001b[39m\u001b[38;5;124mInterrupted by user\u001b[39m\u001b[38;5;124m\"\u001b[39m\n\u001b[1;32m-> 1245\u001b[0m     \u001b[38;5;28;01mraise\u001b[39;00m \u001b[38;5;167;01mKeyboardInterrupt\u001b[39;00m(msg) \u001b[38;5;28;01mfrom\u001b[39;00m \u001b[38;5;28;01mNone\u001b[39;00m\n\u001b[0;32m   1246\u001b[0m \u001b[38;5;28;01mexcept\u001b[39;00m \u001b[38;5;167;01mException\u001b[39;00m:\n\u001b[0;32m   1247\u001b[0m     \u001b[38;5;28mself\u001b[39m\u001b[38;5;241m.\u001b[39mlog\u001b[38;5;241m.\u001b[39mwarning(\u001b[38;5;124m\"\u001b[39m\u001b[38;5;124mInvalid Message:\u001b[39m\u001b[38;5;124m\"\u001b[39m, exc_info\u001b[38;5;241m=\u001b[39m\u001b[38;5;28;01mTrue\u001b[39;00m)\n",
      "\u001b[1;31mKeyboardInterrupt\u001b[0m: Interrupted by user"
     ]
    }
   ],
   "source": [
    "# Initialize variables\n",
    "\n",
    "total_sum = 0\n",
    "\n",
    "count = 0\n",
    "\n",
    " \n",
    "\n",
    "# Get input from the user\n",
    "\n",
    "while True:\n",
    "\n",
    "    user_input = int(input(\"Enter an integer (enter 0 to finish): \"))\n",
    "\n",
    "    \n",
    "\n",
    "    # Check if the user wants to finish\n",
    "\n",
    "    if user_input == 0:\n",
    "\n",
    "        break\n",
    "\n",
    "    \n",
    "\n",
    "    # Update sum and count\n",
    "\n",
    "    total_sum += user_input\n",
    "\n",
    "    count += 1\n",
    "\n",
    " \n",
    "\n",
    "# Calculate average (avoid division by zero)\n",
    "\n",
    "if count > 0:\n",
    "\n",
    "    average = total_sum / count\n",
    "\n",
    "    print(\"Sum:\", total_sum)\n",
    "\n",
    "    print(\"Average:\", average)\n",
    "\n",
    "else:\n",
    "\n",
    "    print(\"No numbers entered.\")"
   ]
  },
  {
   "cell_type": "markdown",
   "id": "45f5c335",
   "metadata": {},
   "source": [
    "# Q12\n",
    " Write a Python program to create the multiplication table (from 1 to 12) of a number input from a user.\n",
    " \n",
    " Expected Output:\n",
    "\n",
    "Input a number: 6                                                       \n",
    "6 x 1 = 6                                                               \n",
    "6 x 2 = 12                                                              \n",
    "6 x 3 = 18                                                              \n",
    "6 x 4 = 24                                                              \n",
    "6 x 5 = 30                                                              \n",
    "6 x 6 = 36                                                              \n",
    "6 x 7 = 42                                                              \n",
    "6 x 8 = 48                                                              \n",
    "6 x 9 = 54                                                              \n",
    "6 x 10 = 60 \n",
    "\n",
    "6 x 11 = 66\n",
    "\n",
    "6 x 12 = 72"
   ]
  },
  {
   "cell_type": "code",
   "execution_count": 52,
   "id": "b4306d15",
   "metadata": {},
   "outputs": [
    {
     "name": "stdout",
     "output_type": "stream",
     "text": [
      "Input a number: 6\n",
      "6 x 1 = 6\n",
      "6 x 2 = 12\n",
      "6 x 3 = 18\n",
      "6 x 4 = 24\n",
      "6 x 5 = 30\n",
      "6 x 6 = 36\n",
      "6 x 7 = 42\n",
      "6 x 8 = 48\n",
      "6 x 9 = 54\n",
      "6 x 10 = 60\n",
      "6 x 11 = 66\n",
      "6 x 12 = 72\n"
     ]
    }
   ],
   "source": [
    "# Get input from the user\n",
    "\n",
    "number = int(input(\"Input a number: \"))\n",
    "\n",
    " \n",
    "\n",
    "# Print the multiplication table\n",
    "\n",
    "for i in range(1, 13):\n",
    "\n",
    "    result = number * i\n",
    "\n",
    "    print(f\"{number} x {i} = {result}\")"
   ]
  },
  {
   "cell_type": "markdown",
   "id": "8cc97048",
   "metadata": {},
   "source": [
    "# Q13\n",
    "Write a Python program to construct the following pattern\n",
    "\n",
    "1\n",
    "\n",
    "22\n",
    "\n",
    "333\n",
    "\n",
    "4444\n",
    "\n",
    "55555\n",
    "\n",
    "666666\n",
    "\n",
    "7777777\n",
    "\n",
    "88888888\n",
    "\n",
    "999999999"
   ]
  },
  {
   "cell_type": "code",
   "execution_count": 54,
   "id": "cbd5c270",
   "metadata": {},
   "outputs": [
    {
     "name": "stdout",
     "output_type": "stream",
     "text": [
      "1\n",
      "22\n",
      "333\n",
      "4444\n",
      "55555\n",
      "666666\n",
      "7777777\n",
      "88888888\n",
      "999999999\n"
     ]
    }
   ],
   "source": [
    "# Construct the pattern\n",
    "\n",
    "for i in range(1, 10):\n",
    "\n",
    "    for j in range(i):\n",
    "\n",
    "        print(i, end=\"\")\n",
    "\n",
    "    print()"
   ]
  },
  {
   "cell_type": "markdown",
   "id": "adef967a",
   "metadata": {},
   "source": [
    "# Q14\n",
    "Print sum of all odd numbers from 10 to 50"
   ]
  },
  {
   "cell_type": "code",
   "execution_count": 43,
   "id": "1f3d311b",
   "metadata": {},
   "outputs": [
    {
     "name": "stdout",
     "output_type": "stream",
     "text": [
      "600\n"
     ]
    }
   ],
   "source": [
    "total_odd = 0\n",
    "\n",
    "for num in range(10, 51):\n",
    "\n",
    "    if num % 2 !=0:\n",
    "\n",
    "        total_odd += num\n",
    "\n",
    "print(total_odd)"
   ]
  },
  {
   "cell_type": "markdown",
   "id": "1642ec1a",
   "metadata": {},
   "source": [
    "# Q15\n",
    "\n",
    "`my_list = [25, 100, 121, 400, 81]`\n",
    "\n",
    "Write the code to display the list of the square root of each number in my list\n",
    "\n",
    "- Without using list comprehension\n",
    "- Using list comprehension"
   ]
  },
  {
   "cell_type": "code",
   "execution_count": 53,
   "id": "be3f0615",
   "metadata": {},
   "outputs": [
    {
     "name": "stdout",
     "output_type": "stream",
     "text": [
      "[5.0, 10.0, 11.0, 20.0, 9.0]\n"
     ]
    }
   ],
   "source": [
    " #without using list comprehension\n",
    "    my_list = [25, 100, 121, 400, 81]\n",
    "\n",
    "square_root = []\n",
    "\n",
    "for num in my_list:\n",
    "\n",
    "    result = num**0.5\n",
    "\n",
    "    square_root.append(result)\n",
    "\n",
    "print(square_root)"
   ]
  },
  {
   "cell_type": "code",
   "execution_count": 56,
   "id": "0682652c",
   "metadata": {},
   "outputs": [
    {
     "name": "stdout",
     "output_type": "stream",
     "text": [
      "[5.0, 10.0, 11.0, 20.0, 9.0]\n"
     ]
    }
   ],
   "source": [
    "# using list comprehension\n",
    "\n",
    "square_root=[num**0.5 for num in my_list]\n",
    "\n",
    "print(square_root)"
   ]
  }
 ],
 "metadata": {
  "kernelspec": {
   "display_name": "Python 3 (ipykernel)",
   "language": "python",
   "name": "python3"
  },
  "language_info": {
   "codemirror_mode": {
    "name": "ipython",
    "version": 3
   },
   "file_extension": ".py",
   "mimetype": "text/x-python",
   "name": "python",
   "nbconvert_exporter": "python",
   "pygments_lexer": "ipython3",
   "version": "3.11.5"
  }
 },
 "nbformat": 4,
 "nbformat_minor": 5
}
