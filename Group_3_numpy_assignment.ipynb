{
 "cells": [
  {
   "cell_type": "markdown",
   "id": "d9c1c58a",
   "metadata": {},
   "source": [
    "Group 3 Members:\n",
    "\n",
    "Nana Ama Annor <br>\n",
    "Solomon Asamoah <br>\n",
    "Dorothy Assan <br>\n",
    "Mawuko Abla Diaba <br>\n",
    "Anita Yeboah <br>"
   ]
  },
  {
   "cell_type": "markdown",
   "id": "89c7852b",
   "metadata": {},
   "source": [
    "ASSIGNMENT"
   ]
  },
  {
   "cell_type": "markdown",
   "id": "60bc0fb5",
   "metadata": {},
   "source": [
    "1.Write a NumPy program to create a 3x3 matrix with values ranging from 2 to 10. Expected Output: [[ 2 3 4] [ 5 6 7] [ 8 9 10]]\n",
    "\n",
    "Write a NumPy program to create a null vector of size 10 and update the sixth value to 11. [ 0. 0. 0. 0. 0. 0. 0. 0. 0. 0.] Update sixth value to 11 [ 0. 0. 0. 0. 0. 0. 11. 0. 0. 0.]\n",
    "\n",
    "Write a NumPy program to create an array with values ranging from 12 to 38. Expected Output: [12 13 14 15 16 17 18 19 20 21 22 23 24 25 26 27 28 29 30 31 32 33 34 35 36 37]\n",
    "\n",
    "Write a NumPy program to reverse an array (the first element becomes the last). Original array: [12 13 14 15 16 17 18 19 20 21 22 23 24 25 26 27 28 29 30 31 32 33 34 35 36 37] Reverse array: [37 36 35 34 33 32 31 30 29 28 27 26 25 24 23 22 21 20 19 18 17 16 15 14 13 12]\n",
    "\n",
    "Write a NumPy program to convert an array to a floating type. Sample output: Original array [1, 2, 3, 4] Array converted to a float type: [ 1. 2. 3. 4.]\n",
    "\n",
    "Write a NumPy program to create a 2D array with 1 on the border and 0 inside. Expected Output: Original array: [[ 1. 1. 1. 1. 1.] ................... [ 1. 1. 1. 1. 1.]]\n",
    "\n",
    "Write a NumPy program to find the number of elements in an array. It also finds the length of one array element in bytes and the total bytes consumed by the elements. Expected Output: Size of the array: 3 Length of one array element in bytes: 8 Total bytes consumed by the elements of the array: 24"
   ]
  },
  {
   "cell_type": "code",
   "execution_count": 14,
   "id": "163ebca5",
   "metadata": {},
   "outputs": [
    {
     "data": {
      "text/plain": [
       "array([[ 2,  3,  4],\n",
       "       [ 5,  6,  7],\n",
       "       [ 8,  9, 10]])"
      ]
     },
     "execution_count": 14,
     "metadata": {},
     "output_type": "execute_result"
    }
   ],
   "source": [
    "import numpy as np\n",
    "array1 = np.arange(2,11)\n",
    "array1 = array1.reshape((3,3))\n",
    "\n",
    "\n",
    "array1"
   ]
  },
  {
   "cell_type": "code",
   "execution_count": 22,
   "id": "44be0b09",
   "metadata": {},
   "outputs": [
    {
     "data": {
      "text/plain": [
       "array([ 0.,  0.,  0.,  0.,  0., 11.,  0.,  0.,  0.,  0.])"
      ]
     },
     "execution_count": 22,
     "metadata": {},
     "output_type": "execute_result"
    }
   ],
   "source": [
    "array2 = np.zeros(10)\n",
    "array2\n",
    "\n",
    "array2[5] = 11\n",
    "array2"
   ]
  },
  {
   "cell_type": "code",
   "execution_count": 23,
   "id": "dd9f3aea",
   "metadata": {},
   "outputs": [
    {
     "data": {
      "text/plain": [
       "array([12, 13, 14, 15, 16, 17, 18, 19, 20, 21, 22, 23, 24, 25, 26, 27, 28,\n",
       "       29, 30, 31, 32, 33, 34, 35, 36, 37, 38])"
      ]
     },
     "execution_count": 23,
     "metadata": {},
     "output_type": "execute_result"
    }
   ],
   "source": [
    "array3 = np.arange(12,39)\n",
    "array3"
   ]
  },
  {
   "cell_type": "code",
   "execution_count": 26,
   "id": "20594011",
   "metadata": {},
   "outputs": [
    {
     "data": {
      "text/plain": [
       "array([38, 37, 36, 35, 34, 33, 32, 31, 30, 29, 28, 27, 26, 25, 24, 23, 22,\n",
       "       21, 20, 19, 18, 17, 16, 15, 14, 13, 12])"
      ]
     },
     "execution_count": 26,
     "metadata": {},
     "output_type": "execute_result"
    }
   ],
   "source": [
    "array4 = np.sort(array3)[::-1]\n",
    "array4"
   ]
  },
  {
   "cell_type": "code",
   "execution_count": 28,
   "id": "6a4c9490",
   "metadata": {},
   "outputs": [
    {
     "data": {
      "text/plain": [
       "array([1., 2., 3., 4.])"
      ]
     },
     "execution_count": 28,
     "metadata": {},
     "output_type": "execute_result"
    }
   ],
   "source": [
    "array5 = np.arange(1,5)\n",
    "\n",
    "float_array5 = array5.astype(float)\n",
    "float_array5"
   ]
  },
  {
   "cell_type": "code",
   "execution_count": 35,
   "id": "cd3ece83",
   "metadata": {},
   "outputs": [
    {
     "data": {
      "text/plain": [
       "array([[0., 0., 0., 0., 0.],\n",
       "       [0., 0., 0., 0., 0.],\n",
       "       [0., 0., 0., 0., 0.],\n",
       "       [0., 0., 0., 0., 0.],\n",
       "       [0., 0., 0., 0., 0.]])"
      ]
     },
     "execution_count": 35,
     "metadata": {},
     "output_type": "execute_result"
    }
   ],
   "source": [
    "#Creating a 5x5 array of zeros\n",
    "array_2d = np.zeros((5, 5))\n",
    "array_2d\n"
   ]
  },
  {
   "cell_type": "code",
   "execution_count": 36,
   "id": "3fdeaea6",
   "metadata": {},
   "outputs": [
    {
     "data": {
      "text/plain": [
       "array([[1., 1., 1., 1., 1.],\n",
       "       [0., 0., 0., 0., 0.],\n",
       "       [0., 0., 0., 0., 0.],\n",
       "       [0., 0., 0., 0., 0.],\n",
       "       [0., 0., 0., 0., 0.]])"
      ]
     },
     "execution_count": 36,
     "metadata": {},
     "output_type": "execute_result"
    }
   ],
   "source": [
    "# Changing all entries in the first row to 1 \n",
    "array_2d [0,:] = 1\n",
    "array_2d"
   ]
  },
  {
   "cell_type": "code",
   "execution_count": 37,
   "id": "70f1a2d4",
   "metadata": {},
   "outputs": [
    {
     "data": {
      "text/plain": [
       "array([[1., 1., 1., 1., 1.],\n",
       "       [0., 0., 0., 0., 0.],\n",
       "       [0., 0., 0., 0., 0.],\n",
       "       [0., 0., 0., 0., 0.],\n",
       "       [1., 1., 1., 1., 1.]])"
      ]
     },
     "execution_count": 37,
     "metadata": {},
     "output_type": "execute_result"
    }
   ],
   "source": [
    "# Changing all entries in the last row to 1 \n",
    "array_2d [4,:] = 1\n",
    "array_2d"
   ]
  },
  {
   "cell_type": "code",
   "execution_count": 38,
   "id": "3d6e0b9a",
   "metadata": {},
   "outputs": [
    {
     "data": {
      "text/plain": [
       "array([[1., 1., 1., 1., 1.],\n",
       "       [1., 0., 0., 0., 0.],\n",
       "       [1., 0., 0., 0., 0.],\n",
       "       [1., 0., 0., 0., 0.],\n",
       "       [1., 1., 1., 1., 1.]])"
      ]
     },
     "execution_count": 38,
     "metadata": {},
     "output_type": "execute_result"
    }
   ],
   "source": [
    "# Changing all entries in the first column to 1 \n",
    "array_2d [:,0] = 1\n",
    "array_2d"
   ]
  },
  {
   "cell_type": "code",
   "execution_count": 39,
   "id": "e89fa61b",
   "metadata": {},
   "outputs": [
    {
     "data": {
      "text/plain": [
       "array([[1., 1., 1., 1., 1.],\n",
       "       [1., 0., 0., 0., 1.],\n",
       "       [1., 0., 0., 0., 1.],\n",
       "       [1., 0., 0., 0., 1.],\n",
       "       [1., 1., 1., 1., 1.]])"
      ]
     },
     "execution_count": 39,
     "metadata": {},
     "output_type": "execute_result"
    }
   ],
   "source": [
    "# Changing all entries in the last column to 1 \n",
    "array_2d [:, 4] = 1\n",
    "array_2d"
   ]
  },
  {
   "cell_type": "code",
   "execution_count": 40,
   "id": "b7f98655",
   "metadata": {},
   "outputs": [
    {
     "data": {
      "text/plain": [
       "array([ 1,  2,  3,  4,  5,  6,  7,  8,  9, 10])"
      ]
     },
     "execution_count": 40,
     "metadata": {},
     "output_type": "execute_result"
    }
   ],
   "source": [
    "array6 = np.arange(1,11)\n",
    "array6"
   ]
  },
  {
   "cell_type": "code",
   "execution_count": 47,
   "id": "3fb02694",
   "metadata": {},
   "outputs": [
    {
     "data": {
      "text/plain": [
       "10"
      ]
     },
     "execution_count": 47,
     "metadata": {},
     "output_type": "execute_result"
    }
   ],
   "source": [
    "array_size = np.size(array6)\n",
    "array_size"
   ]
  },
  {
   "cell_type": "code",
   "execution_count": 44,
   "id": "b32a4aad",
   "metadata": {},
   "outputs": [
    {
     "data": {
      "text/plain": [
       "4"
      ]
     },
     "execution_count": 44,
     "metadata": {},
     "output_type": "execute_result"
    }
   ],
   "source": [
    "element_memory_size = array6.itemsize\n",
    "element_memory_size "
   ]
  },
  {
   "cell_type": "code",
   "execution_count": 48,
   "id": "cad3e20e",
   "metadata": {},
   "outputs": [
    {
     "data": {
      "text/plain": [
       "40"
      ]
     },
     "execution_count": 48,
     "metadata": {},
     "output_type": "execute_result"
    }
   ],
   "source": [
    "total_memory_size = element_memory_size * array_size\n",
    "total_memory_size"
   ]
  },
  {
   "cell_type": "code",
   "execution_count": 50,
   "id": "feefdddf",
   "metadata": {},
   "outputs": [
    {
     "name": "stdout",
     "output_type": "stream",
     "text": [
      "Size of the array: 10\n",
      "Length of one array element in bytes: 4\n",
      "Total bytes consumed by the elements of the array: 40\n"
     ]
    }
   ],
   "source": [
    "print (\"Size of the array:\",array_size )\n",
    "print (\"Length of one array element in bytes:\",element_memory_size )\n",
    "print (\"Total bytes consumed by the elements of the array:\",total_memory_size )"
   ]
  }
 ],
 "metadata": {
  "kernelspec": {
   "display_name": "Python 3 (ipykernel)",
   "language": "python",
   "name": "python3"
  },
  "language_info": {
   "codemirror_mode": {
    "name": "ipython",
    "version": 3
   },
   "file_extension": ".py",
   "mimetype": "text/x-python",
   "name": "python",
   "nbconvert_exporter": "python",
   "pygments_lexer": "ipython3",
   "version": "3.11.4"
  }
 },
 "nbformat": 4,
 "nbformat_minor": 5
}
