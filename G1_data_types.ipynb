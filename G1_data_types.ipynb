{
 "cells": [
  {
   "cell_type": "markdown",
   "id": "1971db0e",
   "metadata": {},
   "source": [
    "### Q1\n",
    "List the basic data types in python and give one example each."
   ]
  },
  {
   "cell_type": "markdown",
   "id": "ba0112fe",
   "metadata": {},
   "source": [
    "### Answers"
   ]
  },
  {
   "cell_type": "markdown",
   "id": "9bbbec4a",
   "metadata": {},
   "source": [
    "Integer eg. 1, \n",
    "string eg.\"Ama\", \n",
    "boolean eg. True, \n",
    "float eg. 2.5"
   ]
  },
  {
   "cell_type": "markdown",
   "id": "4a2be5ba",
   "metadata": {},
   "source": [
    "### Q2\n",
    "Change the variable x = 4539.85 to :\n",
    "\n",
    "(i) a string and assign it to a new variable y,\n",
    "\n",
    "(ii) an integer and assign it to a new variable z\n",
    "\n",
    "Print out the type of y and z."
   ]
  },
  {
   "cell_type": "code",
   "execution_count": 7,
   "id": "4af31284",
   "metadata": {},
   "outputs": [],
   "source": [
    "x= 4539.85"
   ]
  },
  {
   "cell_type": "code",
   "execution_count": 9,
   "id": "4f69aaca",
   "metadata": {
    "scrolled": false
   },
   "outputs": [
    {
     "data": {
      "text/plain": [
       "str"
      ]
     },
     "execution_count": 9,
     "metadata": {},
     "output_type": "execute_result"
    }
   ],
   "source": [
    "y = str (x)\n",
    "type(y)"
   ]
  },
  {
   "cell_type": "code",
   "execution_count": 10,
   "id": "23c05083",
   "metadata": {},
   "outputs": [
    {
     "data": {
      "text/plain": [
       "int"
      ]
     },
     "execution_count": 10,
     "metadata": {},
     "output_type": "execute_result"
    }
   ],
   "source": [
    "z = int (x)\n",
    "type (z)"
   ]
  },
  {
   "cell_type": "markdown",
   "id": "81a1251c",
   "metadata": {},
   "source": [
    "### Q3\n",
    "\n",
    "What data type would you use to store\n",
    "\n",
    "a. The price of car?\n",
    "\n",
    "b. The age of a person\n",
    "\n",
    "c. car plate number: plateNumber = \"AV01-AFP\"?\n",
    "\n",
    "d. The price of fuel\n",
    "\n",
    "e. The number of students in the class\n",
    "\n",
    "f. The weight of a person\n",
    "\n",
    "g. Check whether two figures are equal\n",
    "\n",
    "i. The name of a  school\n",
    "\n",
    "j. The average result of the overall score of a student\n",
    "\n",
    "k. The total number of vote cast\n",
    "\n"
   ]
  },
  {
   "cell_type": "markdown",
   "id": "710ca7b4",
   "metadata": {},
   "source": [
    "### Answers"
   ]
  },
  {
   "cell_type": "markdown",
   "id": "448cee68",
   "metadata": {},
   "source": [
    "a. float\n",
    "b. integer\n",
    "c. string\n",
    "d. float\n",
    "e. integer\n",
    "f. float\n",
    "g. boolean\n",
    "h. string\n",
    "i. float\n",
    "k. integer"
   ]
  },
  {
   "cell_type": "markdown",
   "id": "f0694362",
   "metadata": {},
   "source": [
    "### Q4\n",
    "**Thomas Partey is arguably the best player in the Black Stars. He is a great addition to the team**\n",
    "\n",
    "Split the statement above into **two statement_1** and **statement_2** such that statement_1 will be 'Thomas Partey is arguably the best player in the Black Stars' and statement_2 will be 'He is a great addition to the team'\n",
    "\n",
    "Statement:\n",
    "\n",
    "- **What is the length of statment 1?**\n",
    "-**What is the length of statment 2?**\n",
    "-**Is the length of statement 1 greater than statement 2**"
   ]
  },
  {
   "cell_type": "markdown",
   "id": "e9208782",
   "metadata": {},
   "source": [
    "### Answers"
   ]
  },
  {
   "cell_type": "code",
   "execution_count": 11,
   "id": "e106618a",
   "metadata": {},
   "outputs": [
    {
     "name": "stdout",
     "output_type": "stream",
     "text": [
      "Thomas Partey is arguably the best player in the Black Stars\n",
      "He is a great addition to the team\n"
     ]
    }
   ],
   "source": [
    "statement_1 = \"Thomas Partey is arguably the best player in the Black Stars\"\n",
    "statement_2 = \"He is a great addition to the team\"\n",
    "print(statement_1)\n",
    "print(statement_2)"
   ]
  },
  {
   "cell_type": "code",
   "execution_count": 12,
   "id": "5a806e7c",
   "metadata": {},
   "outputs": [
    {
     "data": {
      "text/plain": [
       "60"
      ]
     },
     "execution_count": 12,
     "metadata": {},
     "output_type": "execute_result"
    }
   ],
   "source": [
    "len(statement_1)"
   ]
  },
  {
   "cell_type": "code",
   "execution_count": 13,
   "id": "ae141ef9",
   "metadata": {},
   "outputs": [
    {
     "data": {
      "text/plain": [
       "34"
      ]
     },
     "execution_count": 13,
     "metadata": {},
     "output_type": "execute_result"
    }
   ],
   "source": [
    "len(statement_2)"
   ]
  },
  {
   "cell_type": "code",
   "execution_count": 17,
   "id": "373d4069",
   "metadata": {},
   "outputs": [
    {
     "name": "stdout",
     "output_type": "stream",
     "text": [
      "True\n"
     ]
    }
   ],
   "source": [
    "#check if length of statement_1 is greater than length of statement_2\n",
    "Total_statement = len(statement_1) > len(statement_2)\n",
    "print(Total_statement)"
   ]
  },
  {
   "cell_type": "markdown",
   "id": "ceb46447",
   "metadata": {},
   "source": [
    "### Q5\n",
    "What values does python use to represent **True** and **False** respectively?"
   ]
  },
  {
   "cell_type": "markdown",
   "id": "49baf16f",
   "metadata": {},
   "source": [
    "### Answer"
   ]
  },
  {
   "cell_type": "markdown",
   "id": "fd9b014c",
   "metadata": {},
   "source": [
    "True = 1\n",
    "False = 0"
   ]
  },
  {
   "cell_type": "markdown",
   "id": "e4cc9b15",
   "metadata": {},
   "source": [
    "### Q6\n",
    "Write a code to evaluate if the following statments are True or False.\n",
    "\n",
    "1. 78 is greater than 46 and less than 30 which is an odd number.\n",
    "\n",
    "2. 8-2 is an even number or 8 is a is an odd number.\n",
    "\n",
    "3. The number of characters in the word 'boostrap' is 7 and that of 'sample' is 6."
   ]
  },
  {
   "cell_type": "markdown",
   "id": "9f3572c8",
   "metadata": {},
   "source": [
    "### Answers"
   ]
  },
  {
   "cell_type": "code",
   "execution_count": 23,
   "id": "f538b174",
   "metadata": {},
   "outputs": [
    {
     "name": "stdout",
     "output_type": "stream",
     "text": [
      "False\n"
     ]
    }
   ],
   "source": [
    "statement_1 = 78 > 46 and 30 % 2 == 1\n",
    "print(statement_1)"
   ]
  },
  {
   "cell_type": "code",
   "execution_count": 24,
   "id": "b35408c7",
   "metadata": {},
   "outputs": [
    {
     "name": "stdout",
     "output_type": "stream",
     "text": [
      "True\n"
     ]
    }
   ],
   "source": [
    "statement_2 = (8-2) % 2 == 0 or 8 % 2 == 1\n",
    "print(statement_2)"
   ]
  },
  {
   "cell_type": "code",
   "execution_count": 26,
   "id": "7d60aede",
   "metadata": {},
   "outputs": [
    {
     "name": "stdout",
     "output_type": "stream",
     "text": [
      "False\n"
     ]
    }
   ],
   "source": [
    "statement_3 = len(\"bootstrap\") == 7 and len(\"sample\") == 6\n",
    "print(statement_3)"
   ]
  },
  {
   "cell_type": "markdown",
   "id": "bc13f9fc",
   "metadata": {},
   "source": [
    "### Q7\n",
    "Given the following python code,\n",
    "\n",
    "`word='Hello, How are you?'`\n",
    "\n",
    "Write Python code to return the following\n",
    "\n",
    "- How\n",
    "- How are you\n",
    "- are\n",
    "- ?\n",
    "- Hello, How are you\n",
    "\n",
    "\n",
    " "
   ]
  },
  {
   "cell_type": "code",
   "execution_count": 18,
   "id": "1b3d90ab",
   "metadata": {},
   "outputs": [
    {
     "name": "stdout",
     "output_type": "stream",
     "text": [
      "How\n"
     ]
    }
   ],
   "source": [
    "word = 'Hello, How are you?'\n",
    "how = word.split(',')[1].split()[0]\n",
    "print(how)"
   ]
  },
  {
   "cell_type": "code",
   "execution_count": 19,
   "id": "8045804b",
   "metadata": {},
   "outputs": [
    {
     "name": "stdout",
     "output_type": "stream",
     "text": [
      "How are you\n"
     ]
    }
   ],
   "source": [
    "how_are_you = word.split(',')[1].strip().rstrip('?')\n",
    "print(how_are_you)"
   ]
  },
  {
   "cell_type": "code",
   "execution_count": 20,
   "id": "f2ddbdb4",
   "metadata": {},
   "outputs": [
    {
     "name": "stdout",
     "output_type": "stream",
     "text": [
      "are\n"
     ]
    }
   ],
   "source": [
    "are = word.split(',')[1].split()[1]\n",
    "print(are)"
   ]
  },
  {
   "cell_type": "code",
   "execution_count": 21,
   "id": "18958727",
   "metadata": {},
   "outputs": [
    {
     "name": "stdout",
     "output_type": "stream",
     "text": [
      "?\n"
     ]
    }
   ],
   "source": [
    "question_mark = word[-1]\n",
    "print(question_mark)"
   ]
  },
  {
   "cell_type": "code",
   "execution_count": 22,
   "id": "01f965ce",
   "metadata": {},
   "outputs": [
    {
     "name": "stdout",
     "output_type": "stream",
     "text": [
      "Hello, How are you\n"
     ]
    }
   ],
   "source": [
    "hello_how_are_you = word.rstrip('?')\n",
    "print(hello_how_are_you)"
   ]
  },
  {
   "cell_type": "markdown",
   "id": "e4167de5",
   "metadata": {},
   "source": [
    "### Q8\n",
    "Given the following python code,\n",
    "\n",
    "`sentence = \"I am very excited\"`\n",
    "\n",
    "Write Python code to return \n",
    "- Convert sentence to upper case\n",
    "- Convert sentence to lower case\n",
    "- Convert sentence to title case\n",
    "- Convert sentence to list of strings\n",
    " "
   ]
  },
  {
   "cell_type": "code",
   "execution_count": 27,
   "id": "8103c8f8",
   "metadata": {},
   "outputs": [
    {
     "name": "stdout",
     "output_type": "stream",
     "text": [
      "I AM VERY EXCITED\n"
     ]
    }
   ],
   "source": [
    "sentence = \"I am very excited\"\n",
    "UPPER = sentence.upper()\n",
    "print(UPPER)"
   ]
  },
  {
   "cell_type": "code",
   "execution_count": 28,
   "id": "73d1f76f",
   "metadata": {},
   "outputs": [
    {
     "name": "stdout",
     "output_type": "stream",
     "text": [
      "i am very excited\n"
     ]
    }
   ],
   "source": [
    "lower = sentence.lower()\n",
    "print(lower)"
   ]
  },
  {
   "cell_type": "code",
   "execution_count": 29,
   "id": "94771055",
   "metadata": {},
   "outputs": [
    {
     "name": "stdout",
     "output_type": "stream",
     "text": [
      "I Am Very Excited\n"
     ]
    }
   ],
   "source": [
    "Title = sentence.title()\n",
    "print(Title)"
   ]
  },
  {
   "cell_type": "code",
   "execution_count": 30,
   "id": "352672bf",
   "metadata": {},
   "outputs": [
    {
     "name": "stdout",
     "output_type": "stream",
     "text": [
      "['I', 'am', 'very', 'excited']\n"
     ]
    }
   ],
   "source": [
    "list_of_strings = sentence.split()\n",
    "print(list_of_strings)"
   ]
  },
  {
   "cell_type": "markdown",
   "id": "4faf0134",
   "metadata": {},
   "source": [
    "### Q9\n",
    "`word = 'OneThirtyEight'`\n",
    "\n",
    "Using Python code extract the following from the variable word:\n",
    "- One\n",
    "- Thirty\n",
    "- Eight\n",
    "- OneThirty\n",
    "- ThirtyEight\n",
    "- ONETHIRTYEIGHT"
   ]
  },
  {
   "cell_type": "code",
   "execution_count": 32,
   "id": "06e2c7ad",
   "metadata": {},
   "outputs": [],
   "source": [
    "word = 'OneThirtyEight'"
   ]
  },
  {
   "cell_type": "code",
   "execution_count": 33,
   "id": "f5ea83aa",
   "metadata": {
    "scrolled": true
   },
   "outputs": [
    {
     "name": "stdout",
     "output_type": "stream",
     "text": [
      "One\n"
     ]
    }
   ],
   "source": [
    "one = word[0:3]\n",
    "print(one)"
   ]
  },
  {
   "cell_type": "code",
   "execution_count": 34,
   "id": "f96d446d",
   "metadata": {
    "scrolled": true
   },
   "outputs": [
    {
     "name": "stdout",
     "output_type": "stream",
     "text": [
      "Thirty\n"
     ]
    }
   ],
   "source": [
    "thirty = word[3:9]\n",
    "print(thirty)"
   ]
  },
  {
   "cell_type": "code",
   "execution_count": 36,
   "id": "54108e3d",
   "metadata": {},
   "outputs": [
    {
     "name": "stdout",
     "output_type": "stream",
     "text": [
      "Eight\n"
     ]
    }
   ],
   "source": [
    "eight = word[9:]\n",
    "print(eight)\n"
   ]
  },
  {
   "cell_type": "code",
   "execution_count": 37,
   "id": "04be57ee",
   "metadata": {},
   "outputs": [
    {
     "name": "stdout",
     "output_type": "stream",
     "text": [
      "OneThirty\n"
     ]
    }
   ],
   "source": [
    "onethirty = word[0:9]\n",
    "print(onethirty)"
   ]
  },
  {
   "cell_type": "code",
   "execution_count": 38,
   "id": "af4b1355",
   "metadata": {},
   "outputs": [
    {
     "name": "stdout",
     "output_type": "stream",
     "text": [
      "ThirtyEight\n"
     ]
    }
   ],
   "source": [
    "thirtyeight = word[3:]\n",
    "print(thirtyeight)"
   ]
  },
  {
   "cell_type": "code",
   "execution_count": 39,
   "id": "e85bd0d0",
   "metadata": {},
   "outputs": [
    {
     "name": "stdout",
     "output_type": "stream",
     "text": [
      "ONETHIRTYEIGHT\n"
     ]
    }
   ],
   "source": [
    "WORD = word.upper()\n",
    "print(WORD)"
   ]
  },
  {
   "cell_type": "markdown",
   "id": "2a4eea1f",
   "metadata": {},
   "source": [
    "### Q10\n",
    "Turn Ault'Kelly into a string and assign it to a variable  called name."
   ]
  },
  {
   "cell_type": "code",
   "execution_count": 40,
   "id": "aa2f0a08",
   "metadata": {},
   "outputs": [
    {
     "data": {
      "text/plain": [
       "str"
      ]
     },
     "execution_count": 40,
     "metadata": {},
     "output_type": "execute_result"
    }
   ],
   "source": [
    "name = \"Ault'Kelly\"\n",
    "type(name)"
   ]
  },
  {
   "cell_type": "code",
   "execution_count": null,
   "id": "68c0ebac",
   "metadata": {},
   "outputs": [],
   "source": []
  }
 ],
 "metadata": {
  "kernelspec": {
   "display_name": "Python 3 (ipykernel)",
   "language": "python",
   "name": "python3"
  },
  "language_info": {
   "codemirror_mode": {
    "name": "ipython",
    "version": 3
   },
   "file_extension": ".py",
   "mimetype": "text/x-python",
   "name": "python",
   "nbconvert_exporter": "python",
   "pygments_lexer": "ipython3",
   "version": "3.11.5"
  }
 },
 "nbformat": 4,
 "nbformat_minor": 5
}
