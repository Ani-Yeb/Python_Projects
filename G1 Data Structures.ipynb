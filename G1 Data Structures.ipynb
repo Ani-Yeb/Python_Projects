{
 "cells": [
  {
   "cell_type": "markdown",
   "id": "3c2e90df",
   "metadata": {},
   "source": [
    "### Q1\n",
    "\n",
    "Name the four built-in data structures in python. Give one examples for each"
   ]
  },
  {
   "cell_type": "markdown",
   "id": "b631f779",
   "metadata": {},
   "source": [
    "### Answer"
   ]
  },
  {
   "cell_type": "markdown",
   "id": "c2de49ee",
   "metadata": {},
   "source": [
    "- Lists : data=[\"hello\",\"fellows\",\"Naa\"]\n",
    "- Tuple : data=(\"Naa\",\"Dorothy\",\"Samuel\",\"Abla\")\n",
    "- Dictionary : data={\"Name\" : \"Abla\", \"Subject\": \"Science\", \"Score\": 90}\n",
    "- Set: data= {\"Naa\",\"Abla\",\"Samuel\"}"
   ]
  },
  {
   "cell_type": "markdown",
   "id": "b6e1dd1b",
   "metadata": {},
   "source": [
    "### Q2\n",
    "\n",
    "State two differences between a list and a tuple in Python."
   ]
  },
  {
   "cell_type": "markdown",
   "id": "cd8b5016",
   "metadata": {},
   "source": [
    "### Answer"
   ]
  },
  {
   "cell_type": "markdown",
   "id": "a62ad891",
   "metadata": {},
   "source": [
    "- Lists are mutable, meaning their elements can be changed, added, or removed after the list is created whiles \n",
    "  Tuples are immutable, which means once a tuple is created, you cannot change, add, or remove elements from it\n",
    "- Lists are defined using square brackets [] while Tuples are defined using parentheses ()."
   ]
  },
  {
   "cell_type": "markdown",
   "id": "815b4e67",
   "metadata": {},
   "source": [
    "### Q3\n",
    "Make a list containing names of five animals with a variable name `animal_list`\n",
    "\n",
    "Write a code for the following:\n",
    "- Print the first two animals\n",
    "- Print the last two animals\n",
    "- Add three extra animals to the variable `animal_list`\n",
    "- Remove the first two animals from the variable `animal_list`\n",
    "- How many animals are in the `animal_list`?\n",
    "- Create a variable animal_set which stores the set of animal_list \n",
    "- How many elements are in the animal_set?\n"
   ]
  },
  {
   "cell_type": "markdown",
   "id": "02fda829",
   "metadata": {},
   "source": [
    "### Answer"
   ]
  },
  {
   "cell_type": "code",
   "execution_count": 18,
   "id": "8cbbc09e",
   "metadata": {},
   "outputs": [
    {
     "data": {
      "text/plain": [
       "['Lion', 'Elephant', 'Giraffe', 'Dolphin', 'Penguin']"
      ]
     },
     "execution_count": 18,
     "metadata": {},
     "output_type": "execute_result"
    }
   ],
   "source": [
    "animal_list=['Lion', 'Elephant', 'Giraffe', 'Dolphin', 'Penguin']\n",
    "animal_list"
   ]
  },
  {
   "cell_type": "code",
   "execution_count": 19,
   "id": "a4340b3b",
   "metadata": {},
   "outputs": [
    {
     "name": "stdout",
     "output_type": "stream",
     "text": [
      "['Lion', 'Elephant']\n"
     ]
    }
   ],
   "source": [
    "# Print the first two animals\n",
    "print(animal_list[0:2])"
   ]
  },
  {
   "cell_type": "code",
   "execution_count": 20,
   "id": "fd157466",
   "metadata": {},
   "outputs": [
    {
     "name": "stdout",
     "output_type": "stream",
     "text": [
      "['Dolphin', 'Penguin']\n"
     ]
    }
   ],
   "source": [
    "#Print the last two animals\n",
    "print(animal_list[-2:])"
   ]
  },
  {
   "cell_type": "code",
   "execution_count": 21,
   "id": "b1358dda",
   "metadata": {},
   "outputs": [
    {
     "name": "stdout",
     "output_type": "stream",
     "text": [
      "['Lion', 'Elephant', 'Giraffe', 'Dolphin', 'Penguin', 'goat', 'sheep', 'dog']\n"
     ]
    }
   ],
   "source": [
    "#Add three extra animals to the variable `animal_list`\n",
    "animal_list.append(\"goat\")\n",
    "animal_list.append(\"sheep\")\n",
    "animal_list.append(\"dog\")\n",
    "print(animal_list)"
   ]
  },
  {
   "cell_type": "code",
   "execution_count": 26,
   "id": "70ad259e",
   "metadata": {},
   "outputs": [
    {
     "name": "stdout",
     "output_type": "stream",
     "text": [
      "['Giraffe', 'Penguin', 'goat', 'sheep', 'dog']\n"
     ]
    }
   ],
   "source": [
    "#Remove the first two animals from the variable `animal_list`\n",
    "animal_list.pop(0)\n",
    "animal_list.pop(1)\n",
    "print(animal_list)"
   ]
  },
  {
   "cell_type": "code",
   "execution_count": 30,
   "id": "97b69b9a",
   "metadata": {},
   "outputs": [
    {
     "name": "stdout",
     "output_type": "stream",
     "text": [
      "There are 5 animals left in the list\n"
     ]
    }
   ],
   "source": [
    "#How many animals are in the `animal_list`?\n",
    "print(\"There are \"+ str(len(animal_list)) + \" animals left in the list\")"
   ]
  },
  {
   "cell_type": "code",
   "execution_count": 31,
   "id": "61a32dae",
   "metadata": {},
   "outputs": [
    {
     "name": "stdout",
     "output_type": "stream",
     "text": [
      "{'goat', 'Penguin', 'dog', 'sheep', 'Giraffe'}\n"
     ]
    }
   ],
   "source": [
    "#Create a variable animal_set which stores the set of animal_list\n",
    "animal_set= set(animal_list)\n",
    "print(animal_set)"
   ]
  },
  {
   "cell_type": "code",
   "execution_count": 32,
   "id": "6a30f247",
   "metadata": {},
   "outputs": [
    {
     "name": "stdout",
     "output_type": "stream",
     "text": [
      "There are 5 animals in the set\n"
     ]
    }
   ],
   "source": [
    "#How many elements are in the animal_set?\n",
    "print(\"There are \"+ str(len(animal_set)) + \" animals in the set\")"
   ]
  },
  {
   "cell_type": "markdown",
   "id": "113c9970",
   "metadata": {},
   "source": [
    "### Q4\n",
    "\n",
    "Given a list:\n",
    "\n",
    "suitcase = [\"sunglasses\", \"hat\", \"passport\", \"laptop\", \"suit\", \"shoes\"]\n",
    "\n",
    "a. Create a list called first containing only the two first items from suitcase.\n",
    "\n",
    "b. Create a list called middle containing only the two middle items from suitcase.\n",
    "\n",
    "c. Create a list called last made up only of the last two items from suitcase."
   ]
  },
  {
   "cell_type": "markdown",
   "id": "86f429f4",
   "metadata": {},
   "source": [
    "### Answer"
   ]
  },
  {
   "cell_type": "code",
   "execution_count": 33,
   "id": "bf6bc750",
   "metadata": {},
   "outputs": [],
   "source": [
    "suitcase = [\"sunglasses\", \"hat\", \"passport\", \"laptop\", \"suit\", \"shoes\"]"
   ]
  },
  {
   "cell_type": "code",
   "execution_count": 41,
   "id": "121b1519",
   "metadata": {},
   "outputs": [
    {
     "name": "stdout",
     "output_type": "stream",
     "text": [
      "first list = ['sunglasses', 'hat']\n"
     ]
    }
   ],
   "source": [
    "# a\n",
    "first=list(suitcase[0:2])\n",
    "print(\"first list = \"+ str(first))"
   ]
  },
  {
   "cell_type": "code",
   "execution_count": 42,
   "id": "8f89a2d8",
   "metadata": {},
   "outputs": [
    {
     "name": "stdout",
     "output_type": "stream",
     "text": [
      "middle list = ['passport', 'laptop']\n"
     ]
    }
   ],
   "source": [
    "# b\n",
    "middle=list(suitcase[2:4])\n",
    "print(\"middle list = \" + str(middle))"
   ]
  },
  {
   "cell_type": "code",
   "execution_count": 43,
   "id": "c6a0fa04",
   "metadata": {},
   "outputs": [
    {
     "name": "stdout",
     "output_type": "stream",
     "text": [
      "last list = ['suit', 'shoes']\n"
     ]
    }
   ],
   "source": [
    "# c\n",
    "last=list(suitcase[-2:])\n",
    "print(\"last list = \" + str(last))"
   ]
  },
  {
   "cell_type": "markdown",
   "id": "711ba044",
   "metadata": {},
   "source": [
    "### Q5\n",
    "Write a python code to insert 35 into the list below. Make sure it is inserted in the right position to maintain the order of the data.\n",
    "\n",
    "`values = [20,25,30,40,45,50,55,60,65,70]`"
   ]
  },
  {
   "cell_type": "markdown",
   "id": "ad2a4971",
   "metadata": {},
   "source": [
    "### Answer"
   ]
  },
  {
   "cell_type": "code",
   "execution_count": 59,
   "id": "52c6542b",
   "metadata": {},
   "outputs": [
    {
     "name": "stdout",
     "output_type": "stream",
     "text": [
      "[20, 25, 30, 35, 40, 45, 50, 55, 60, 65, 70]\n"
     ]
    }
   ],
   "source": [
    "values = [20,25,30,40,45,50,55,60,65,70]\n",
    "new_value=35\n",
    "for i in range(len(values)):\n",
    "    if values[i] > new_value:\n",
    "        values.insert(i,new_value)\n",
    "        break\n",
    "else:\n",
    "    values.append(new_value)\n",
    "print(values)"
   ]
  },
  {
   "cell_type": "markdown",
   "id": "f535cf64",
   "metadata": {},
   "source": [
    "### Q6\n",
    "\n",
    "Given that Python lists and Python tuples are quite similar – when might you prefer to use a tuple over a list?"
   ]
  },
  {
   "cell_type": "markdown",
   "id": "f236ea98",
   "metadata": {},
   "source": [
    "### Answer"
   ]
  },
  {
   "cell_type": "markdown",
   "id": "53d70281",
   "metadata": {},
   "source": [
    "- A tuple is used over a list when you want to ensure data integrity"
   ]
  },
  {
   "cell_type": "markdown",
   "id": "346927f6",
   "metadata": {},
   "source": [
    "### Q7\n",
    "Create a dictionary with 5 Ghana regions and their capitals and store it in the variable `region_capital`\n",
    "\n",
    "- Print out the keys of region_capital\n",
    "- Print out the values of region_capital\n"
   ]
  },
  {
   "cell_type": "markdown",
   "id": "82389c53",
   "metadata": {},
   "source": [
    "### Answer"
   ]
  },
  {
   "cell_type": "code",
   "execution_count": 1,
   "id": "8185dac5",
   "metadata": {},
   "outputs": [
    {
     "name": "stdout",
     "output_type": "stream",
     "text": [
      "{'Ashanti': 'Kumasi', 'Greater Accra': 'Accra', 'Northern': 'Tamale', 'Central': 'Cape Coast', 'Western': 'Sekondi-Takoradi'}\n"
     ]
    }
   ],
   "source": [
    "region_capital = {\n",
    "    'Ashanti': 'Kumasi',\n",
    "    'Greater Accra': 'Accra',\n",
    "    'Northern': 'Tamale',\n",
    "    'Central': 'Cape Coast',\n",
    "    'Western': 'Sekondi-Takoradi'}\n",
    "\n",
    "print(region_capital)\n"
   ]
  },
  {
   "cell_type": "code",
   "execution_count": 61,
   "id": "7b164b6d",
   "metadata": {},
   "outputs": [
    {
     "name": "stdout",
     "output_type": "stream",
     "text": [
      "dict_keys(['Ashanti', 'Greater Accra', 'Northern', 'Central', 'Western'])\n"
     ]
    }
   ],
   "source": [
    "#Print out the keys of region_capital\n",
    "print(region_capital.keys())"
   ]
  },
  {
   "cell_type": "code",
   "execution_count": 63,
   "id": "82d5ee74",
   "metadata": {},
   "outputs": [
    {
     "name": "stdout",
     "output_type": "stream",
     "text": [
      "dict_values(['Kumasi', 'Accra', 'Tamale', 'Cape Coast', 'Sekondi-Takoradi'])\n"
     ]
    }
   ],
   "source": [
    "#Print out the values of region_capital\n",
    "print(region_capital.values())"
   ]
  },
  {
   "cell_type": "markdown",
   "id": "70526b3b",
   "metadata": {},
   "source": [
    "### Q8\n",
    "\n",
    "`values = [3,4,5,6,3,4,3,5,2,4,2,5,6,1,6]`\n",
    "\n",
    "Using the codes above answer the following questions:\n",
    "- What is the total number of elements in values?\n",
    "- What is the highest occuring number in the values variable?\n",
    "- Convert values into a set and store it into a variable named `values_set`\n",
    "- How many elements are in the variable values_set?\n"
   ]
  },
  {
   "cell_type": "markdown",
   "id": "6dc2cd15",
   "metadata": {},
   "source": [
    "### Answer"
   ]
  },
  {
   "cell_type": "code",
   "execution_count": 64,
   "id": "56c3166f",
   "metadata": {},
   "outputs": [],
   "source": [
    "values = [3,4,5,6,3,4,3,5,2,4,2,5,6,1,6]"
   ]
  },
  {
   "cell_type": "code",
   "execution_count": 65,
   "id": "ca4b0db3",
   "metadata": {},
   "outputs": [
    {
     "name": "stdout",
     "output_type": "stream",
     "text": [
      "15\n"
     ]
    }
   ],
   "source": [
    "#total number of elements in values?\n",
    "print(len(values))"
   ]
  },
  {
   "cell_type": "code",
   "execution_count": 68,
   "id": "63302b92",
   "metadata": {},
   "outputs": [
    {
     "data": {
      "text/plain": [
       "6"
      ]
     },
     "execution_count": 68,
     "metadata": {},
     "output_type": "execute_result"
    }
   ],
   "source": [
    "#highest occuring number in the values variable?\n",
    "max(values)"
   ]
  },
  {
   "cell_type": "code",
   "execution_count": 70,
   "id": "374d2433",
   "metadata": {},
   "outputs": [
    {
     "name": "stdout",
     "output_type": "stream",
     "text": [
      "{1, 2, 3, 4, 5, 6}\n"
     ]
    }
   ],
   "source": [
    "#Convert values into a set \n",
    "values_set=set(values)\n",
    "print(values_set)"
   ]
  },
  {
   "cell_type": "code",
   "execution_count": 72,
   "id": "fe263d5f",
   "metadata": {},
   "outputs": [
    {
     "name": "stdout",
     "output_type": "stream",
     "text": [
      "6\n"
     ]
    }
   ],
   "source": [
    "#How many elements are in the variable values_set?\n",
    "print(len(values_set))"
   ]
  },
  {
   "cell_type": "markdown",
   "id": "801d5876",
   "metadata": {},
   "source": [
    "### Q9\n",
    "Write a Python script to print a dictionary where the keys are numbers between 1 and 15 (both included) and the values are the square of the keys."
   ]
  },
  {
   "cell_type": "markdown",
   "id": "cfeca734",
   "metadata": {},
   "source": [
    "### Answer"
   ]
  },
  {
   "cell_type": "code",
   "execution_count": 81,
   "id": "fa8deb4e",
   "metadata": {},
   "outputs": [
    {
     "name": "stdout",
     "output_type": "stream",
     "text": [
      "{1: 1, 2: 4, 3: 9, 4: 16, 5: 25, 6: 36, 7: 49, 8: 64, 9: 81, 10: 100, 11: 121, 12: 144, 13: 169, 14: 196, 15: 225}\n"
     ]
    }
   ],
   "source": [
    "num_dict={}\n",
    "for i in range(1,16):\n",
    "    num_dict[i]= i**2\n",
    "print(num_dict)\n"
   ]
  },
  {
   "cell_type": "markdown",
   "id": "18954e57",
   "metadata": {},
   "source": [
    "### Q10\n",
    "Write a Python program to create a dictionary of keys x, y, and z where each key has as value a list from 11-20, 21-30, and 31-40 respectively. Access the fifth value of each key from the dictionary."
   ]
  },
  {
   "cell_type": "markdown",
   "id": "b92f81d9",
   "metadata": {},
   "source": [
    "### Answer"
   ]
  },
  {
   "cell_type": "code",
   "execution_count": 2,
   "id": "fec19820",
   "metadata": {},
   "outputs": [
    {
     "name": "stdout",
     "output_type": "stream",
     "text": [
      "{'x': [11, 12, 13, 14, 15, 16, 17, 18, 19, 20], 'y': [21, 22, 23, 24, 25, 26, 27, 28, 29, 30], 'z': [31, 32, 33, 34, 35, 36, 37, 38, 39, 40]}\n",
      "15\n",
      "25\n",
      "35\n"
     ]
    }
   ],
   "source": [
    "num_dict={}\n",
    "num_dict[\"x\"]=list(range(11,21))\n",
    "num_dict[\"y\"]=list(range(21,31))\n",
    "num_dict[\"z\"]=list(range(31,41))\n",
    "print(num_dict)\n",
    "print(num_dict[\"x\"][4])\n",
    "print(num_dict[\"y\"][4])\n",
    "print(num_dict[\"z\"][4])\n"
   ]
  },
  {
   "cell_type": "code",
   "execution_count": null,
   "id": "521354ae",
   "metadata": {},
   "outputs": [],
   "source": []
  }
 ],
 "metadata": {
  "kernelspec": {
   "display_name": "Python 3 (ipykernel)",
   "language": "python",
   "name": "python3"
  },
  "language_info": {
   "codemirror_mode": {
    "name": "ipython",
    "version": 3
   },
   "file_extension": ".py",
   "mimetype": "text/x-python",
   "name": "python",
   "nbconvert_exporter": "python",
   "pygments_lexer": "ipython3",
   "version": "3.11.5"
  }
 },
 "nbformat": 4,
 "nbformat_minor": 5
}
